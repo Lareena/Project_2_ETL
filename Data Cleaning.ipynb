{
 "cells": [
  {
   "source": [
    "# We started by importing the dependencies, creating, and then showing the dataframes."
   ],
   "cell_type": "markdown",
   "metadata": {}
  },
  {
   "cell_type": "code",
   "execution_count": 11,
   "metadata": {},
   "outputs": [],
   "source": [
    "#Dependencies\n",
    "import pandas as pd\n",
    "import numpy as np\n",
    "import datetime as dt"
   ]
  },
  {
   "cell_type": "code",
   "execution_count": 12,
   "metadata": {},
   "outputs": [],
   "source": [
    "#Filepath to csv file\n",
    "file1 = \"Space_Corrected.csv\"\n",
    "file2 = \"SpaceMissions.csv\""
   ]
  },
  {
   "cell_type": "code",
   "execution_count": 13,
   "metadata": {},
   "outputs": [
    {
     "output_type": "execute_result",
     "data": {
      "text/plain": [
       "     Company Name                                           Location  \\\n",
       "0          SpaceX         LC-39A, Kennedy Space Center, Florida, USA   \n",
       "1            CASC  Site 9401 (SLS-2), Jiuquan Satellite Launch Ce...   \n",
       "2          SpaceX                      Pad A, Boca Chica, Texas, USA   \n",
       "3       Roscosmos       Site 200/39, Baikonur Cosmodrome, Kazakhstan   \n",
       "4             ULA           SLC-41, Cape Canaveral AFS, Florida, USA   \n",
       "...           ...                                                ...   \n",
       "4319      US Navy           LC-18A, Cape Canaveral AFS, Florida, USA   \n",
       "4320         AMBA           LC-26A, Cape Canaveral AFS, Florida, USA   \n",
       "4321      US Navy           LC-18A, Cape Canaveral AFS, Florida, USA   \n",
       "4322    RVSN USSR          Site 1/5, Baikonur Cosmodrome, Kazakhstan   \n",
       "4323    RVSN USSR          Site 1/5, Baikonur Cosmodrome, Kazakhstan   \n",
       "\n",
       "                           Datum  \\\n",
       "0     Fri Aug 07, 2020 05:12 UTC   \n",
       "1     Thu Aug 06, 2020 04:01 UTC   \n",
       "2     Tue Aug 04, 2020 23:57 UTC   \n",
       "3     Thu Jul 30, 2020 21:25 UTC   \n",
       "4     Thu Jul 30, 2020 11:50 UTC   \n",
       "...                          ...   \n",
       "4319  Wed Feb 05, 1958 07:33 UTC   \n",
       "4320  Sat Feb 01, 1958 03:48 UTC   \n",
       "4321  Fri Dec 06, 1957 16:44 UTC   \n",
       "4322  Sun Nov 03, 1957 02:30 UTC   \n",
       "4323  Fri Oct 04, 1957 19:28 UTC   \n",
       "\n",
       "                                            Detail  Status Rocket   Rocket  \\\n",
       "0     Falcon 9 Block 5 | Starlink V1 L9 & BlackSky   StatusActive    50.00   \n",
       "1              Long March 2D | Gaofen-9 04 & Q-SAT   StatusActive    29.75   \n",
       "2               Starship Prototype | 150 Meter Hop   StatusActive      NaN   \n",
       "3     Proton-M/Briz-M | Ekspress-80 & Ekspress-103   StatusActive    65.00   \n",
       "4                       Atlas V 541 | Perseverance   StatusActive   145.00   \n",
       "...                                            ...            ...      ...   \n",
       "4319                     Vanguard | Vanguard TV3BU  StatusRetired      NaN   \n",
       "4320                           Juno I | Explorer 1  StatusRetired      NaN   \n",
       "4321                       Vanguard | Vanguard TV3  StatusRetired      NaN   \n",
       "4322                    Sputnik 8K71PS | Sputnik-2  StatusRetired      NaN   \n",
       "4323                    Sputnik 8K71PS | Sputnik-1  StatusRetired      NaN   \n",
       "\n",
       "     Status Mission  \n",
       "0           Success  \n",
       "1           Success  \n",
       "2           Success  \n",
       "3           Success  \n",
       "4           Success  \n",
       "...             ...  \n",
       "4319        Failure  \n",
       "4320        Success  \n",
       "4321        Failure  \n",
       "4322        Success  \n",
       "4323        Success  \n",
       "\n",
       "[4324 rows x 7 columns]"
      ],
      "text/html": "<div>\n<style scoped>\n    .dataframe tbody tr th:only-of-type {\n        vertical-align: middle;\n    }\n\n    .dataframe tbody tr th {\n        vertical-align: top;\n    }\n\n    .dataframe thead th {\n        text-align: right;\n    }\n</style>\n<table border=\"1\" class=\"dataframe\">\n  <thead>\n    <tr style=\"text-align: right;\">\n      <th></th>\n      <th>Company Name</th>\n      <th>Location</th>\n      <th>Datum</th>\n      <th>Detail</th>\n      <th>Status Rocket</th>\n      <th>Rocket</th>\n      <th>Status Mission</th>\n    </tr>\n  </thead>\n  <tbody>\n    <tr>\n      <th>0</th>\n      <td>SpaceX</td>\n      <td>LC-39A, Kennedy Space Center, Florida, USA</td>\n      <td>Fri Aug 07, 2020 05:12 UTC</td>\n      <td>Falcon 9 Block 5 | Starlink V1 L9 &amp; BlackSky</td>\n      <td>StatusActive</td>\n      <td>50.00</td>\n      <td>Success</td>\n    </tr>\n    <tr>\n      <th>1</th>\n      <td>CASC</td>\n      <td>Site 9401 (SLS-2), Jiuquan Satellite Launch Ce...</td>\n      <td>Thu Aug 06, 2020 04:01 UTC</td>\n      <td>Long March 2D | Gaofen-9 04 &amp; Q-SAT</td>\n      <td>StatusActive</td>\n      <td>29.75</td>\n      <td>Success</td>\n    </tr>\n    <tr>\n      <th>2</th>\n      <td>SpaceX</td>\n      <td>Pad A, Boca Chica, Texas, USA</td>\n      <td>Tue Aug 04, 2020 23:57 UTC</td>\n      <td>Starship Prototype | 150 Meter Hop</td>\n      <td>StatusActive</td>\n      <td>NaN</td>\n      <td>Success</td>\n    </tr>\n    <tr>\n      <th>3</th>\n      <td>Roscosmos</td>\n      <td>Site 200/39, Baikonur Cosmodrome, Kazakhstan</td>\n      <td>Thu Jul 30, 2020 21:25 UTC</td>\n      <td>Proton-M/Briz-M | Ekspress-80 &amp; Ekspress-103</td>\n      <td>StatusActive</td>\n      <td>65.00</td>\n      <td>Success</td>\n    </tr>\n    <tr>\n      <th>4</th>\n      <td>ULA</td>\n      <td>SLC-41, Cape Canaveral AFS, Florida, USA</td>\n      <td>Thu Jul 30, 2020 11:50 UTC</td>\n      <td>Atlas V 541 | Perseverance</td>\n      <td>StatusActive</td>\n      <td>145.00</td>\n      <td>Success</td>\n    </tr>\n    <tr>\n      <th>...</th>\n      <td>...</td>\n      <td>...</td>\n      <td>...</td>\n      <td>...</td>\n      <td>...</td>\n      <td>...</td>\n      <td>...</td>\n    </tr>\n    <tr>\n      <th>4319</th>\n      <td>US Navy</td>\n      <td>LC-18A, Cape Canaveral AFS, Florida, USA</td>\n      <td>Wed Feb 05, 1958 07:33 UTC</td>\n      <td>Vanguard | Vanguard TV3BU</td>\n      <td>StatusRetired</td>\n      <td>NaN</td>\n      <td>Failure</td>\n    </tr>\n    <tr>\n      <th>4320</th>\n      <td>AMBA</td>\n      <td>LC-26A, Cape Canaveral AFS, Florida, USA</td>\n      <td>Sat Feb 01, 1958 03:48 UTC</td>\n      <td>Juno I | Explorer 1</td>\n      <td>StatusRetired</td>\n      <td>NaN</td>\n      <td>Success</td>\n    </tr>\n    <tr>\n      <th>4321</th>\n      <td>US Navy</td>\n      <td>LC-18A, Cape Canaveral AFS, Florida, USA</td>\n      <td>Fri Dec 06, 1957 16:44 UTC</td>\n      <td>Vanguard | Vanguard TV3</td>\n      <td>StatusRetired</td>\n      <td>NaN</td>\n      <td>Failure</td>\n    </tr>\n    <tr>\n      <th>4322</th>\n      <td>RVSN USSR</td>\n      <td>Site 1/5, Baikonur Cosmodrome, Kazakhstan</td>\n      <td>Sun Nov 03, 1957 02:30 UTC</td>\n      <td>Sputnik 8K71PS | Sputnik-2</td>\n      <td>StatusRetired</td>\n      <td>NaN</td>\n      <td>Success</td>\n    </tr>\n    <tr>\n      <th>4323</th>\n      <td>RVSN USSR</td>\n      <td>Site 1/5, Baikonur Cosmodrome, Kazakhstan</td>\n      <td>Fri Oct 04, 1957 19:28 UTC</td>\n      <td>Sputnik 8K71PS | Sputnik-1</td>\n      <td>StatusRetired</td>\n      <td>NaN</td>\n      <td>Success</td>\n    </tr>\n  </tbody>\n</table>\n<p>4324 rows × 7 columns</p>\n</div>"
     },
     "metadata": {},
     "execution_count": 13
    }
   ],
   "source": [
    "#Create dataframes from csv files\n",
    "Space_Corrected = pd.read_csv(file1)\n",
    "SpaceMissions = pd.read_csv(file2)\n",
    "\n",
    "#Show first dataframe\n",
    "Space_Corrected"
   ]
  },
  {
   "cell_type": "code",
   "execution_count": 14,
   "metadata": {},
   "outputs": [
    {
     "output_type": "execute_result",
     "data": {
      "text/plain": [
       "    Company Launch Date Launch Time       Launch Site  Temperature (° F)  \\\n",
       "0    SpaceX   24-Mar-06       22:30  Marshall Islands               86.0   \n",
       "1    SpaceX   21-Mar-07        1:10  Marshall Islands                NaN   \n",
       "2    SpaceX    3-Aug-08        3:34  Marshall Islands                NaN   \n",
       "3    SpaceX    3-Aug-08        3:34  Marshall Islands                NaN   \n",
       "4    SpaceX    3-Aug-08        3:34  Marshall Islands                NaN   \n",
       "..      ...         ...         ...               ...                ...   \n",
       "145  Boeing   11-Feb-02       17:43       Vandenberg                51.0   \n",
       "146  Boeing    4-May-02        9:54       Vandenberg                59.0   \n",
       "147  Boeing    3-Jul-02        6:47    Cape Canaveral               76.0   \n",
       "148  Boeing   20-Nov-02       22:39    Cape Canaveral               72.0   \n",
       "149  Boeing   13-Jan-03        0:45       Vandenberg                50.0   \n",
       "\n",
       "     Wind speed (MPH)  Humidity (%)            Vehicle Type  \\\n",
       "0                 9.0          74.0                Falcon 1   \n",
       "1                 NaN           NaN                Falcon 1   \n",
       "2                 NaN           NaN                Falcon 1   \n",
       "3                 NaN           NaN                Falcon 1   \n",
       "4                 NaN           NaN                Falcon 1   \n",
       "..                ...           ...                     ...   \n",
       "145               0.0          66.0       Delta II 7920-10C   \n",
       "146               8.0          67.0       Delta II 7920-10C   \n",
       "147               3.0          87.0           Delta II 7425   \n",
       "148               5.0          73.0  Delta IV Medium+ (4,2)   \n",
       "149               0.0         100.0       Delta II 7320-10C   \n",
       "\n",
       "     Liftoff Thrust (kN)  Payload to Orbit (kg)  Rocket Height (m)  \\\n",
       "0                    343                    470              22.25   \n",
       "1                    343                    470              22.25   \n",
       "2                    343                    470              22.25   \n",
       "3                    343                    470              22.25   \n",
       "4                    343                    470              22.25   \n",
       "..                   ...                    ...                ...   \n",
       "145                 3511                   4800              38.90   \n",
       "146                 3511                   4800              38.90   \n",
       "147                 3020                   1110              38.10   \n",
       "148                 4895                   6390              62.50   \n",
       "149                 2533                   2703              38.90   \n",
       "\n",
       "     Fairing Diameter (m)        Payload Name             Payload Type  \\\n",
       "0                     1.5         FalconSAT-2       Research Satellite   \n",
       "1                     1.5             DemoSat           Mass simulator   \n",
       "2                     1.5         Trailblazer  Communication Satellite   \n",
       "3                     1.5  PRESat, NanoSail-D      Research Satellites   \n",
       "4                     1.5           Explorers            Human Remains   \n",
       "..                    ...                 ...                      ...   \n",
       "145                   3.0        Iridium IS-1  Communication Satellite   \n",
       "146                   3.0                Aqua       Research Satellite   \n",
       "147                   2.9             CONTOUR              Space Probe   \n",
       "148                   4.0         Eutelsat W5  Communication Satellite   \n",
       "149                   3.0              ICESat       Research Satellite   \n",
       "\n",
       "     Payload Mass (kg)                 Payload Orbit Mission Status  \\\n",
       "0                 20.0               Low Earth Orbit        Failure   \n",
       "1                  NaN               Low Earth Orbit        Failure   \n",
       "2                  NaN               Low Earth Orbit        Failure   \n",
       "3                  8.0               Low Earth Orbit        Failure   \n",
       "4                  NaN               Low Earth Orbit        Failure   \n",
       "..                 ...                           ...            ...   \n",
       "145              689.0               Low Earth Orbit        Success   \n",
       "146             3117.0               Low Earth Orbit        Success   \n",
       "147              328.0            Heliocentric Orbit        Success   \n",
       "148             3170.0  Geostationary Transfer Orbit        Success   \n",
       "149              970.0         Sun-Synchronous Orbit        Success   \n",
       "\n",
       "                    Failure Reason  \n",
       "0        Engine Fire During Launch  \n",
       "1    Engine Shutdown During Launch  \n",
       "2          Collision During Launch  \n",
       "3          Collision During Launch  \n",
       "4          Collision During Launch  \n",
       "..                             ...  \n",
       "145                            NaN  \n",
       "146                            NaN  \n",
       "147                            NaN  \n",
       "148                            NaN  \n",
       "149                            NaN  \n",
       "\n",
       "[150 rows x 18 columns]"
      ],
      "text/html": "<div>\n<style scoped>\n    .dataframe tbody tr th:only-of-type {\n        vertical-align: middle;\n    }\n\n    .dataframe tbody tr th {\n        vertical-align: top;\n    }\n\n    .dataframe thead th {\n        text-align: right;\n    }\n</style>\n<table border=\"1\" class=\"dataframe\">\n  <thead>\n    <tr style=\"text-align: right;\">\n      <th></th>\n      <th>Company</th>\n      <th>Launch Date</th>\n      <th>Launch Time</th>\n      <th>Launch Site</th>\n      <th>Temperature (° F)</th>\n      <th>Wind speed (MPH)</th>\n      <th>Humidity (%)</th>\n      <th>Vehicle Type</th>\n      <th>Liftoff Thrust (kN)</th>\n      <th>Payload to Orbit (kg)</th>\n      <th>Rocket Height (m)</th>\n      <th>Fairing Diameter (m)</th>\n      <th>Payload Name</th>\n      <th>Payload Type</th>\n      <th>Payload Mass (kg)</th>\n      <th>Payload Orbit</th>\n      <th>Mission Status</th>\n      <th>Failure Reason</th>\n    </tr>\n  </thead>\n  <tbody>\n    <tr>\n      <th>0</th>\n      <td>SpaceX</td>\n      <td>24-Mar-06</td>\n      <td>22:30</td>\n      <td>Marshall Islands</td>\n      <td>86.0</td>\n      <td>9.0</td>\n      <td>74.0</td>\n      <td>Falcon 1</td>\n      <td>343</td>\n      <td>470</td>\n      <td>22.25</td>\n      <td>1.5</td>\n      <td>FalconSAT-2</td>\n      <td>Research Satellite</td>\n      <td>20.0</td>\n      <td>Low Earth Orbit</td>\n      <td>Failure</td>\n      <td>Engine Fire During Launch</td>\n    </tr>\n    <tr>\n      <th>1</th>\n      <td>SpaceX</td>\n      <td>21-Mar-07</td>\n      <td>1:10</td>\n      <td>Marshall Islands</td>\n      <td>NaN</td>\n      <td>NaN</td>\n      <td>NaN</td>\n      <td>Falcon 1</td>\n      <td>343</td>\n      <td>470</td>\n      <td>22.25</td>\n      <td>1.5</td>\n      <td>DemoSat</td>\n      <td>Mass simulator</td>\n      <td>NaN</td>\n      <td>Low Earth Orbit</td>\n      <td>Failure</td>\n      <td>Engine Shutdown During Launch</td>\n    </tr>\n    <tr>\n      <th>2</th>\n      <td>SpaceX</td>\n      <td>3-Aug-08</td>\n      <td>3:34</td>\n      <td>Marshall Islands</td>\n      <td>NaN</td>\n      <td>NaN</td>\n      <td>NaN</td>\n      <td>Falcon 1</td>\n      <td>343</td>\n      <td>470</td>\n      <td>22.25</td>\n      <td>1.5</td>\n      <td>Trailblazer</td>\n      <td>Communication Satellite</td>\n      <td>NaN</td>\n      <td>Low Earth Orbit</td>\n      <td>Failure</td>\n      <td>Collision During Launch</td>\n    </tr>\n    <tr>\n      <th>3</th>\n      <td>SpaceX</td>\n      <td>3-Aug-08</td>\n      <td>3:34</td>\n      <td>Marshall Islands</td>\n      <td>NaN</td>\n      <td>NaN</td>\n      <td>NaN</td>\n      <td>Falcon 1</td>\n      <td>343</td>\n      <td>470</td>\n      <td>22.25</td>\n      <td>1.5</td>\n      <td>PRESat, NanoSail-D</td>\n      <td>Research Satellites</td>\n      <td>8.0</td>\n      <td>Low Earth Orbit</td>\n      <td>Failure</td>\n      <td>Collision During Launch</td>\n    </tr>\n    <tr>\n      <th>4</th>\n      <td>SpaceX</td>\n      <td>3-Aug-08</td>\n      <td>3:34</td>\n      <td>Marshall Islands</td>\n      <td>NaN</td>\n      <td>NaN</td>\n      <td>NaN</td>\n      <td>Falcon 1</td>\n      <td>343</td>\n      <td>470</td>\n      <td>22.25</td>\n      <td>1.5</td>\n      <td>Explorers</td>\n      <td>Human Remains</td>\n      <td>NaN</td>\n      <td>Low Earth Orbit</td>\n      <td>Failure</td>\n      <td>Collision During Launch</td>\n    </tr>\n    <tr>\n      <th>...</th>\n      <td>...</td>\n      <td>...</td>\n      <td>...</td>\n      <td>...</td>\n      <td>...</td>\n      <td>...</td>\n      <td>...</td>\n      <td>...</td>\n      <td>...</td>\n      <td>...</td>\n      <td>...</td>\n      <td>...</td>\n      <td>...</td>\n      <td>...</td>\n      <td>...</td>\n      <td>...</td>\n      <td>...</td>\n      <td>...</td>\n    </tr>\n    <tr>\n      <th>145</th>\n      <td>Boeing</td>\n      <td>11-Feb-02</td>\n      <td>17:43</td>\n      <td>Vandenberg</td>\n      <td>51.0</td>\n      <td>0.0</td>\n      <td>66.0</td>\n      <td>Delta II 7920-10C</td>\n      <td>3511</td>\n      <td>4800</td>\n      <td>38.90</td>\n      <td>3.0</td>\n      <td>Iridium IS-1</td>\n      <td>Communication Satellite</td>\n      <td>689.0</td>\n      <td>Low Earth Orbit</td>\n      <td>Success</td>\n      <td>NaN</td>\n    </tr>\n    <tr>\n      <th>146</th>\n      <td>Boeing</td>\n      <td>4-May-02</td>\n      <td>9:54</td>\n      <td>Vandenberg</td>\n      <td>59.0</td>\n      <td>8.0</td>\n      <td>67.0</td>\n      <td>Delta II 7920-10C</td>\n      <td>3511</td>\n      <td>4800</td>\n      <td>38.90</td>\n      <td>3.0</td>\n      <td>Aqua</td>\n      <td>Research Satellite</td>\n      <td>3117.0</td>\n      <td>Low Earth Orbit</td>\n      <td>Success</td>\n      <td>NaN</td>\n    </tr>\n    <tr>\n      <th>147</th>\n      <td>Boeing</td>\n      <td>3-Jul-02</td>\n      <td>6:47</td>\n      <td>Cape Canaveral</td>\n      <td>76.0</td>\n      <td>3.0</td>\n      <td>87.0</td>\n      <td>Delta II 7425</td>\n      <td>3020</td>\n      <td>1110</td>\n      <td>38.10</td>\n      <td>2.9</td>\n      <td>CONTOUR</td>\n      <td>Space Probe</td>\n      <td>328.0</td>\n      <td>Heliocentric Orbit</td>\n      <td>Success</td>\n      <td>NaN</td>\n    </tr>\n    <tr>\n      <th>148</th>\n      <td>Boeing</td>\n      <td>20-Nov-02</td>\n      <td>22:39</td>\n      <td>Cape Canaveral</td>\n      <td>72.0</td>\n      <td>5.0</td>\n      <td>73.0</td>\n      <td>Delta IV Medium+ (4,2)</td>\n      <td>4895</td>\n      <td>6390</td>\n      <td>62.50</td>\n      <td>4.0</td>\n      <td>Eutelsat W5</td>\n      <td>Communication Satellite</td>\n      <td>3170.0</td>\n      <td>Geostationary Transfer Orbit</td>\n      <td>Success</td>\n      <td>NaN</td>\n    </tr>\n    <tr>\n      <th>149</th>\n      <td>Boeing</td>\n      <td>13-Jan-03</td>\n      <td>0:45</td>\n      <td>Vandenberg</td>\n      <td>50.0</td>\n      <td>0.0</td>\n      <td>100.0</td>\n      <td>Delta II 7320-10C</td>\n      <td>2533</td>\n      <td>2703</td>\n      <td>38.90</td>\n      <td>3.0</td>\n      <td>ICESat</td>\n      <td>Research Satellite</td>\n      <td>970.0</td>\n      <td>Sun-Synchronous Orbit</td>\n      <td>Success</td>\n      <td>NaN</td>\n    </tr>\n  </tbody>\n</table>\n<p>150 rows × 18 columns</p>\n</div>"
     },
     "metadata": {},
     "execution_count": 14
    }
   ],
   "source": [
    "#Show second dataframe\n",
    "SpaceMissions"
   ]
  },
  {
   "source": [
    "# We merged both dataframes using concat."
   ],
   "cell_type": "markdown",
   "metadata": {}
  },
  {
   "cell_type": "code",
   "execution_count": 15,
   "metadata": {},
   "outputs": [
    {
     "output_type": "execute_result",
     "data": {
      "text/plain": [
       "     Company Name                                           Location  \\\n",
       "0          SpaceX         LC-39A, Kennedy Space Center, Florida, USA   \n",
       "1            CASC  Site 9401 (SLS-2), Jiuquan Satellite Launch Ce...   \n",
       "2          SpaceX                      Pad A, Boca Chica, Texas, USA   \n",
       "3       Roscosmos       Site 200/39, Baikonur Cosmodrome, Kazakhstan   \n",
       "4             ULA           SLC-41, Cape Canaveral AFS, Florida, USA   \n",
       "...           ...                                                ...   \n",
       "4469          NaN                                                NaN   \n",
       "4470          NaN                                                NaN   \n",
       "4471          NaN                                                NaN   \n",
       "4472          NaN                                                NaN   \n",
       "4473          NaN                                                NaN   \n",
       "\n",
       "                           Datum  \\\n",
       "0     Fri Aug 07, 2020 05:12 UTC   \n",
       "1     Thu Aug 06, 2020 04:01 UTC   \n",
       "2     Tue Aug 04, 2020 23:57 UTC   \n",
       "3     Thu Jul 30, 2020 21:25 UTC   \n",
       "4     Thu Jul 30, 2020 11:50 UTC   \n",
       "...                          ...   \n",
       "4469                         NaN   \n",
       "4470                         NaN   \n",
       "4471                         NaN   \n",
       "4472                         NaN   \n",
       "4473                         NaN   \n",
       "\n",
       "                                            Detail Status Rocket   Rocket  \\\n",
       "0     Falcon 9 Block 5 | Starlink V1 L9 & BlackSky  StatusActive    50.00   \n",
       "1              Long March 2D | Gaofen-9 04 & Q-SAT  StatusActive    29.75   \n",
       "2               Starship Prototype | 150 Meter Hop  StatusActive      NaN   \n",
       "3     Proton-M/Briz-M | Ekspress-80 & Ekspress-103  StatusActive    65.00   \n",
       "4                       Atlas V 541 | Perseverance  StatusActive   145.00   \n",
       "...                                            ...           ...      ...   \n",
       "4469                                           NaN           NaN      NaN   \n",
       "4470                                           NaN           NaN      NaN   \n",
       "4471                                           NaN           NaN      NaN   \n",
       "4472                                           NaN           NaN      NaN   \n",
       "4473                                           NaN           NaN      NaN   \n",
       "\n",
       "     Status Mission Company Launch Date Launch Time  ... Liftoff Thrust (kN)  \\\n",
       "0           Success     NaN         NaN         NaN  ...                 NaN   \n",
       "1           Success     NaN         NaN         NaN  ...                 NaN   \n",
       "2           Success     NaN         NaN         NaN  ...                 NaN   \n",
       "3           Success     NaN         NaN         NaN  ...                 NaN   \n",
       "4           Success     NaN         NaN         NaN  ...                 NaN   \n",
       "...             ...     ...         ...         ...  ...                 ...   \n",
       "4469            NaN  Boeing   11-Feb-02       17:43  ...              3511.0   \n",
       "4470            NaN  Boeing    4-May-02        9:54  ...              3511.0   \n",
       "4471            NaN  Boeing    3-Jul-02        6:47  ...              3020.0   \n",
       "4472            NaN  Boeing   20-Nov-02       22:39  ...              4895.0   \n",
       "4473            NaN  Boeing   13-Jan-03        0:45  ...              2533.0   \n",
       "\n",
       "      Payload to Orbit (kg)  Rocket Height (m)  Fairing Diameter (m)  \\\n",
       "0                       NaN                NaN                   NaN   \n",
       "1                       NaN                NaN                   NaN   \n",
       "2                       NaN                NaN                   NaN   \n",
       "3                       NaN                NaN                   NaN   \n",
       "4                       NaN                NaN                   NaN   \n",
       "...                     ...                ...                   ...   \n",
       "4469                 4800.0               38.9                   3.0   \n",
       "4470                 4800.0               38.9                   3.0   \n",
       "4471                 1110.0               38.1                   2.9   \n",
       "4472                 6390.0               62.5                   4.0   \n",
       "4473                 2703.0               38.9                   3.0   \n",
       "\n",
       "      Payload Name             Payload Type  Payload Mass (kg)  \\\n",
       "0              NaN                      NaN                NaN   \n",
       "1              NaN                      NaN                NaN   \n",
       "2              NaN                      NaN                NaN   \n",
       "3              NaN                      NaN                NaN   \n",
       "4              NaN                      NaN                NaN   \n",
       "...            ...                      ...                ...   \n",
       "4469  Iridium IS-1  Communication Satellite              689.0   \n",
       "4470          Aqua       Research Satellite             3117.0   \n",
       "4471       CONTOUR              Space Probe              328.0   \n",
       "4472   Eutelsat W5  Communication Satellite             3170.0   \n",
       "4473        ICESat       Research Satellite              970.0   \n",
       "\n",
       "                     Payload Orbit  Mission Status Failure Reason  \n",
       "0                              NaN             NaN            NaN  \n",
       "1                              NaN             NaN            NaN  \n",
       "2                              NaN             NaN            NaN  \n",
       "3                              NaN             NaN            NaN  \n",
       "4                              NaN             NaN            NaN  \n",
       "...                            ...             ...            ...  \n",
       "4469               Low Earth Orbit         Success            NaN  \n",
       "4470               Low Earth Orbit         Success            NaN  \n",
       "4471            Heliocentric Orbit         Success            NaN  \n",
       "4472  Geostationary Transfer Orbit         Success            NaN  \n",
       "4473         Sun-Synchronous Orbit         Success            NaN  \n",
       "\n",
       "[4474 rows x 25 columns]"
      ],
      "text/html": "<div>\n<style scoped>\n    .dataframe tbody tr th:only-of-type {\n        vertical-align: middle;\n    }\n\n    .dataframe tbody tr th {\n        vertical-align: top;\n    }\n\n    .dataframe thead th {\n        text-align: right;\n    }\n</style>\n<table border=\"1\" class=\"dataframe\">\n  <thead>\n    <tr style=\"text-align: right;\">\n      <th></th>\n      <th>Company Name</th>\n      <th>Location</th>\n      <th>Datum</th>\n      <th>Detail</th>\n      <th>Status Rocket</th>\n      <th>Rocket</th>\n      <th>Status Mission</th>\n      <th>Company</th>\n      <th>Launch Date</th>\n      <th>Launch Time</th>\n      <th>...</th>\n      <th>Liftoff Thrust (kN)</th>\n      <th>Payload to Orbit (kg)</th>\n      <th>Rocket Height (m)</th>\n      <th>Fairing Diameter (m)</th>\n      <th>Payload Name</th>\n      <th>Payload Type</th>\n      <th>Payload Mass (kg)</th>\n      <th>Payload Orbit</th>\n      <th>Mission Status</th>\n      <th>Failure Reason</th>\n    </tr>\n  </thead>\n  <tbody>\n    <tr>\n      <th>0</th>\n      <td>SpaceX</td>\n      <td>LC-39A, Kennedy Space Center, Florida, USA</td>\n      <td>Fri Aug 07, 2020 05:12 UTC</td>\n      <td>Falcon 9 Block 5 | Starlink V1 L9 &amp; BlackSky</td>\n      <td>StatusActive</td>\n      <td>50.00</td>\n      <td>Success</td>\n      <td>NaN</td>\n      <td>NaN</td>\n      <td>NaN</td>\n      <td>...</td>\n      <td>NaN</td>\n      <td>NaN</td>\n      <td>NaN</td>\n      <td>NaN</td>\n      <td>NaN</td>\n      <td>NaN</td>\n      <td>NaN</td>\n      <td>NaN</td>\n      <td>NaN</td>\n      <td>NaN</td>\n    </tr>\n    <tr>\n      <th>1</th>\n      <td>CASC</td>\n      <td>Site 9401 (SLS-2), Jiuquan Satellite Launch Ce...</td>\n      <td>Thu Aug 06, 2020 04:01 UTC</td>\n      <td>Long March 2D | Gaofen-9 04 &amp; Q-SAT</td>\n      <td>StatusActive</td>\n      <td>29.75</td>\n      <td>Success</td>\n      <td>NaN</td>\n      <td>NaN</td>\n      <td>NaN</td>\n      <td>...</td>\n      <td>NaN</td>\n      <td>NaN</td>\n      <td>NaN</td>\n      <td>NaN</td>\n      <td>NaN</td>\n      <td>NaN</td>\n      <td>NaN</td>\n      <td>NaN</td>\n      <td>NaN</td>\n      <td>NaN</td>\n    </tr>\n    <tr>\n      <th>2</th>\n      <td>SpaceX</td>\n      <td>Pad A, Boca Chica, Texas, USA</td>\n      <td>Tue Aug 04, 2020 23:57 UTC</td>\n      <td>Starship Prototype | 150 Meter Hop</td>\n      <td>StatusActive</td>\n      <td>NaN</td>\n      <td>Success</td>\n      <td>NaN</td>\n      <td>NaN</td>\n      <td>NaN</td>\n      <td>...</td>\n      <td>NaN</td>\n      <td>NaN</td>\n      <td>NaN</td>\n      <td>NaN</td>\n      <td>NaN</td>\n      <td>NaN</td>\n      <td>NaN</td>\n      <td>NaN</td>\n      <td>NaN</td>\n      <td>NaN</td>\n    </tr>\n    <tr>\n      <th>3</th>\n      <td>Roscosmos</td>\n      <td>Site 200/39, Baikonur Cosmodrome, Kazakhstan</td>\n      <td>Thu Jul 30, 2020 21:25 UTC</td>\n      <td>Proton-M/Briz-M | Ekspress-80 &amp; Ekspress-103</td>\n      <td>StatusActive</td>\n      <td>65.00</td>\n      <td>Success</td>\n      <td>NaN</td>\n      <td>NaN</td>\n      <td>NaN</td>\n      <td>...</td>\n      <td>NaN</td>\n      <td>NaN</td>\n      <td>NaN</td>\n      <td>NaN</td>\n      <td>NaN</td>\n      <td>NaN</td>\n      <td>NaN</td>\n      <td>NaN</td>\n      <td>NaN</td>\n      <td>NaN</td>\n    </tr>\n    <tr>\n      <th>4</th>\n      <td>ULA</td>\n      <td>SLC-41, Cape Canaveral AFS, Florida, USA</td>\n      <td>Thu Jul 30, 2020 11:50 UTC</td>\n      <td>Atlas V 541 | Perseverance</td>\n      <td>StatusActive</td>\n      <td>145.00</td>\n      <td>Success</td>\n      <td>NaN</td>\n      <td>NaN</td>\n      <td>NaN</td>\n      <td>...</td>\n      <td>NaN</td>\n      <td>NaN</td>\n      <td>NaN</td>\n      <td>NaN</td>\n      <td>NaN</td>\n      <td>NaN</td>\n      <td>NaN</td>\n      <td>NaN</td>\n      <td>NaN</td>\n      <td>NaN</td>\n    </tr>\n    <tr>\n      <th>...</th>\n      <td>...</td>\n      <td>...</td>\n      <td>...</td>\n      <td>...</td>\n      <td>...</td>\n      <td>...</td>\n      <td>...</td>\n      <td>...</td>\n      <td>...</td>\n      <td>...</td>\n      <td>...</td>\n      <td>...</td>\n      <td>...</td>\n      <td>...</td>\n      <td>...</td>\n      <td>...</td>\n      <td>...</td>\n      <td>...</td>\n      <td>...</td>\n      <td>...</td>\n      <td>...</td>\n    </tr>\n    <tr>\n      <th>4469</th>\n      <td>NaN</td>\n      <td>NaN</td>\n      <td>NaN</td>\n      <td>NaN</td>\n      <td>NaN</td>\n      <td>NaN</td>\n      <td>NaN</td>\n      <td>Boeing</td>\n      <td>11-Feb-02</td>\n      <td>17:43</td>\n      <td>...</td>\n      <td>3511.0</td>\n      <td>4800.0</td>\n      <td>38.9</td>\n      <td>3.0</td>\n      <td>Iridium IS-1</td>\n      <td>Communication Satellite</td>\n      <td>689.0</td>\n      <td>Low Earth Orbit</td>\n      <td>Success</td>\n      <td>NaN</td>\n    </tr>\n    <tr>\n      <th>4470</th>\n      <td>NaN</td>\n      <td>NaN</td>\n      <td>NaN</td>\n      <td>NaN</td>\n      <td>NaN</td>\n      <td>NaN</td>\n      <td>NaN</td>\n      <td>Boeing</td>\n      <td>4-May-02</td>\n      <td>9:54</td>\n      <td>...</td>\n      <td>3511.0</td>\n      <td>4800.0</td>\n      <td>38.9</td>\n      <td>3.0</td>\n      <td>Aqua</td>\n      <td>Research Satellite</td>\n      <td>3117.0</td>\n      <td>Low Earth Orbit</td>\n      <td>Success</td>\n      <td>NaN</td>\n    </tr>\n    <tr>\n      <th>4471</th>\n      <td>NaN</td>\n      <td>NaN</td>\n      <td>NaN</td>\n      <td>NaN</td>\n      <td>NaN</td>\n      <td>NaN</td>\n      <td>NaN</td>\n      <td>Boeing</td>\n      <td>3-Jul-02</td>\n      <td>6:47</td>\n      <td>...</td>\n      <td>3020.0</td>\n      <td>1110.0</td>\n      <td>38.1</td>\n      <td>2.9</td>\n      <td>CONTOUR</td>\n      <td>Space Probe</td>\n      <td>328.0</td>\n      <td>Heliocentric Orbit</td>\n      <td>Success</td>\n      <td>NaN</td>\n    </tr>\n    <tr>\n      <th>4472</th>\n      <td>NaN</td>\n      <td>NaN</td>\n      <td>NaN</td>\n      <td>NaN</td>\n      <td>NaN</td>\n      <td>NaN</td>\n      <td>NaN</td>\n      <td>Boeing</td>\n      <td>20-Nov-02</td>\n      <td>22:39</td>\n      <td>...</td>\n      <td>4895.0</td>\n      <td>6390.0</td>\n      <td>62.5</td>\n      <td>4.0</td>\n      <td>Eutelsat W5</td>\n      <td>Communication Satellite</td>\n      <td>3170.0</td>\n      <td>Geostationary Transfer Orbit</td>\n      <td>Success</td>\n      <td>NaN</td>\n    </tr>\n    <tr>\n      <th>4473</th>\n      <td>NaN</td>\n      <td>NaN</td>\n      <td>NaN</td>\n      <td>NaN</td>\n      <td>NaN</td>\n      <td>NaN</td>\n      <td>NaN</td>\n      <td>Boeing</td>\n      <td>13-Jan-03</td>\n      <td>0:45</td>\n      <td>...</td>\n      <td>2533.0</td>\n      <td>2703.0</td>\n      <td>38.9</td>\n      <td>3.0</td>\n      <td>ICESat</td>\n      <td>Research Satellite</td>\n      <td>970.0</td>\n      <td>Sun-Synchronous Orbit</td>\n      <td>Success</td>\n      <td>NaN</td>\n    </tr>\n  </tbody>\n</table>\n<p>4474 rows × 25 columns</p>\n</div>"
     },
     "metadata": {},
     "execution_count": 15
    }
   ],
   "source": [
    "#Merging both dataframes\n",
    "space_df = pd.concat([Space_Corrected, SpaceMissions], axis=0, ignore_index=True)\n",
    "\n",
    "space_df"
   ]
  },
  {
   "source": [
    "# We converted the 'datum' column in the space dataframe for future manipulation."
   ],
   "cell_type": "markdown",
   "metadata": {}
  },
  {
   "cell_type": "code",
   "execution_count": 16,
   "metadata": {},
   "outputs": [],
   "source": [
    "#Convert ['Datum'] column to datetime datatype\n",
    "space_df['Datum'] = pd.to_datetime(space_df['Datum'], utc=True)"
   ]
  },
  {
   "source": [
    "# We created a filtered dataframe by slicing the value in the location column by -3 in order to only include USA launches"
   ],
   "cell_type": "markdown",
   "metadata": {}
  },
  {
   "cell_type": "code",
   "execution_count": 17,
   "metadata": {},
   "outputs": [
    {
     "output_type": "execute_result",
     "data": {
      "text/plain": [
       "     Company Name                                       Location  \\\n",
       "0          SpaceX     LC-39A, Kennedy Space Center, Florida, USA   \n",
       "2          SpaceX                  Pad A, Boca Chica, Texas, USA   \n",
       "4             ULA       SLC-41, Cape Canaveral AFS, Florida, USA   \n",
       "8          SpaceX       SLC-40, Cape Canaveral AFS, Florida, USA   \n",
       "10       Northrop  LP-0B, Wallops Flight Facility, Virginia, USA   \n",
       "...           ...                                            ...   \n",
       "4317      US Navy       LC-18A, Cape Canaveral AFS, Florida, USA   \n",
       "4318         AMBA       LC-26A, Cape Canaveral AFS, Florida, USA   \n",
       "4319      US Navy       LC-18A, Cape Canaveral AFS, Florida, USA   \n",
       "4320         AMBA       LC-26A, Cape Canaveral AFS, Florida, USA   \n",
       "4321      US Navy       LC-18A, Cape Canaveral AFS, Florida, USA   \n",
       "\n",
       "                         Datum                                        Detail  \\\n",
       "0    2020-08-07 05:12:00+00:00  Falcon 9 Block 5 | Starlink V1 L9 & BlackSky   \n",
       "2    2020-08-04 23:57:00+00:00            Starship Prototype | 150 Meter Hop   \n",
       "4    2020-07-30 11:50:00+00:00                    Atlas V 541 | Perseverance   \n",
       "8    2020-07-20 21:30:00+00:00                  Falcon 9 Block 5 | ANASIS-II   \n",
       "10   2020-07-15 13:46:00+00:00                        Minotaur IV | NROL-129   \n",
       "...                        ...                                           ...   \n",
       "4317 1958-03-17 12:15:00+00:00                         Vanguard | Vanguard 1   \n",
       "4318 1958-03-05 18:27:00+00:00                           Juno I | Explorer 2   \n",
       "4319 1958-02-05 07:33:00+00:00                     Vanguard | Vanguard TV3BU   \n",
       "4320 1958-02-01 03:48:00+00:00                           Juno I | Explorer 1   \n",
       "4321 1957-12-06 16:44:00+00:00                       Vanguard | Vanguard TV3   \n",
       "\n",
       "      Status Rocket   Rocket Status Mission Company Launch Date Launch Time  \\\n",
       "0      StatusActive     50.0        Success     NaN         NaN         NaN   \n",
       "2      StatusActive      NaN        Success     NaN         NaN         NaN   \n",
       "4      StatusActive    145.0        Success     NaN         NaN         NaN   \n",
       "8      StatusActive     50.0        Success     NaN         NaN         NaN   \n",
       "10     StatusActive     46.0        Success     NaN         NaN         NaN   \n",
       "...             ...      ...            ...     ...         ...         ...   \n",
       "4317  StatusRetired      NaN        Success     NaN         NaN         NaN   \n",
       "4318  StatusRetired      NaN        Failure     NaN         NaN         NaN   \n",
       "4319  StatusRetired      NaN        Failure     NaN         NaN         NaN   \n",
       "4320  StatusRetired      NaN        Success     NaN         NaN         NaN   \n",
       "4321  StatusRetired      NaN        Failure     NaN         NaN         NaN   \n",
       "\n",
       "      ... Liftoff Thrust (kN)  Payload to Orbit (kg)  Rocket Height (m)  \\\n",
       "0     ...                 NaN                    NaN                NaN   \n",
       "2     ...                 NaN                    NaN                NaN   \n",
       "4     ...                 NaN                    NaN                NaN   \n",
       "8     ...                 NaN                    NaN                NaN   \n",
       "10    ...                 NaN                    NaN                NaN   \n",
       "...   ...                 ...                    ...                ...   \n",
       "4317  ...                 NaN                    NaN                NaN   \n",
       "4318  ...                 NaN                    NaN                NaN   \n",
       "4319  ...                 NaN                    NaN                NaN   \n",
       "4320  ...                 NaN                    NaN                NaN   \n",
       "4321  ...                 NaN                    NaN                NaN   \n",
       "\n",
       "      Fairing Diameter (m) Payload Name  Payload Type  Payload Mass (kg)  \\\n",
       "0                      NaN          NaN           NaN                NaN   \n",
       "2                      NaN          NaN           NaN                NaN   \n",
       "4                      NaN          NaN           NaN                NaN   \n",
       "8                      NaN          NaN           NaN                NaN   \n",
       "10                     NaN          NaN           NaN                NaN   \n",
       "...                    ...          ...           ...                ...   \n",
       "4317                   NaN          NaN           NaN                NaN   \n",
       "4318                   NaN          NaN           NaN                NaN   \n",
       "4319                   NaN          NaN           NaN                NaN   \n",
       "4320                   NaN          NaN           NaN                NaN   \n",
       "4321                   NaN          NaN           NaN                NaN   \n",
       "\n",
       "      Payload Orbit  Mission Status Failure Reason  \n",
       "0               NaN             NaN            NaN  \n",
       "2               NaN             NaN            NaN  \n",
       "4               NaN             NaN            NaN  \n",
       "8               NaN             NaN            NaN  \n",
       "10              NaN             NaN            NaN  \n",
       "...             ...             ...            ...  \n",
       "4317            NaN             NaN            NaN  \n",
       "4318            NaN             NaN            NaN  \n",
       "4319            NaN             NaN            NaN  \n",
       "4320            NaN             NaN            NaN  \n",
       "4321            NaN             NaN            NaN  \n",
       "\n",
       "[1344 rows x 25 columns]"
      ],
      "text/html": "<div>\n<style scoped>\n    .dataframe tbody tr th:only-of-type {\n        vertical-align: middle;\n    }\n\n    .dataframe tbody tr th {\n        vertical-align: top;\n    }\n\n    .dataframe thead th {\n        text-align: right;\n    }\n</style>\n<table border=\"1\" class=\"dataframe\">\n  <thead>\n    <tr style=\"text-align: right;\">\n      <th></th>\n      <th>Company Name</th>\n      <th>Location</th>\n      <th>Datum</th>\n      <th>Detail</th>\n      <th>Status Rocket</th>\n      <th>Rocket</th>\n      <th>Status Mission</th>\n      <th>Company</th>\n      <th>Launch Date</th>\n      <th>Launch Time</th>\n      <th>...</th>\n      <th>Liftoff Thrust (kN)</th>\n      <th>Payload to Orbit (kg)</th>\n      <th>Rocket Height (m)</th>\n      <th>Fairing Diameter (m)</th>\n      <th>Payload Name</th>\n      <th>Payload Type</th>\n      <th>Payload Mass (kg)</th>\n      <th>Payload Orbit</th>\n      <th>Mission Status</th>\n      <th>Failure Reason</th>\n    </tr>\n  </thead>\n  <tbody>\n    <tr>\n      <th>0</th>\n      <td>SpaceX</td>\n      <td>LC-39A, Kennedy Space Center, Florida, USA</td>\n      <td>2020-08-07 05:12:00+00:00</td>\n      <td>Falcon 9 Block 5 | Starlink V1 L9 &amp; BlackSky</td>\n      <td>StatusActive</td>\n      <td>50.0</td>\n      <td>Success</td>\n      <td>NaN</td>\n      <td>NaN</td>\n      <td>NaN</td>\n      <td>...</td>\n      <td>NaN</td>\n      <td>NaN</td>\n      <td>NaN</td>\n      <td>NaN</td>\n      <td>NaN</td>\n      <td>NaN</td>\n      <td>NaN</td>\n      <td>NaN</td>\n      <td>NaN</td>\n      <td>NaN</td>\n    </tr>\n    <tr>\n      <th>2</th>\n      <td>SpaceX</td>\n      <td>Pad A, Boca Chica, Texas, USA</td>\n      <td>2020-08-04 23:57:00+00:00</td>\n      <td>Starship Prototype | 150 Meter Hop</td>\n      <td>StatusActive</td>\n      <td>NaN</td>\n      <td>Success</td>\n      <td>NaN</td>\n      <td>NaN</td>\n      <td>NaN</td>\n      <td>...</td>\n      <td>NaN</td>\n      <td>NaN</td>\n      <td>NaN</td>\n      <td>NaN</td>\n      <td>NaN</td>\n      <td>NaN</td>\n      <td>NaN</td>\n      <td>NaN</td>\n      <td>NaN</td>\n      <td>NaN</td>\n    </tr>\n    <tr>\n      <th>4</th>\n      <td>ULA</td>\n      <td>SLC-41, Cape Canaveral AFS, Florida, USA</td>\n      <td>2020-07-30 11:50:00+00:00</td>\n      <td>Atlas V 541 | Perseverance</td>\n      <td>StatusActive</td>\n      <td>145.0</td>\n      <td>Success</td>\n      <td>NaN</td>\n      <td>NaN</td>\n      <td>NaN</td>\n      <td>...</td>\n      <td>NaN</td>\n      <td>NaN</td>\n      <td>NaN</td>\n      <td>NaN</td>\n      <td>NaN</td>\n      <td>NaN</td>\n      <td>NaN</td>\n      <td>NaN</td>\n      <td>NaN</td>\n      <td>NaN</td>\n    </tr>\n    <tr>\n      <th>8</th>\n      <td>SpaceX</td>\n      <td>SLC-40, Cape Canaveral AFS, Florida, USA</td>\n      <td>2020-07-20 21:30:00+00:00</td>\n      <td>Falcon 9 Block 5 | ANASIS-II</td>\n      <td>StatusActive</td>\n      <td>50.0</td>\n      <td>Success</td>\n      <td>NaN</td>\n      <td>NaN</td>\n      <td>NaN</td>\n      <td>...</td>\n      <td>NaN</td>\n      <td>NaN</td>\n      <td>NaN</td>\n      <td>NaN</td>\n      <td>NaN</td>\n      <td>NaN</td>\n      <td>NaN</td>\n      <td>NaN</td>\n      <td>NaN</td>\n      <td>NaN</td>\n    </tr>\n    <tr>\n      <th>10</th>\n      <td>Northrop</td>\n      <td>LP-0B, Wallops Flight Facility, Virginia, USA</td>\n      <td>2020-07-15 13:46:00+00:00</td>\n      <td>Minotaur IV | NROL-129</td>\n      <td>StatusActive</td>\n      <td>46.0</td>\n      <td>Success</td>\n      <td>NaN</td>\n      <td>NaN</td>\n      <td>NaN</td>\n      <td>...</td>\n      <td>NaN</td>\n      <td>NaN</td>\n      <td>NaN</td>\n      <td>NaN</td>\n      <td>NaN</td>\n      <td>NaN</td>\n      <td>NaN</td>\n      <td>NaN</td>\n      <td>NaN</td>\n      <td>NaN</td>\n    </tr>\n    <tr>\n      <th>...</th>\n      <td>...</td>\n      <td>...</td>\n      <td>...</td>\n      <td>...</td>\n      <td>...</td>\n      <td>...</td>\n      <td>...</td>\n      <td>...</td>\n      <td>...</td>\n      <td>...</td>\n      <td>...</td>\n      <td>...</td>\n      <td>...</td>\n      <td>...</td>\n      <td>...</td>\n      <td>...</td>\n      <td>...</td>\n      <td>...</td>\n      <td>...</td>\n      <td>...</td>\n      <td>...</td>\n    </tr>\n    <tr>\n      <th>4317</th>\n      <td>US Navy</td>\n      <td>LC-18A, Cape Canaveral AFS, Florida, USA</td>\n      <td>1958-03-17 12:15:00+00:00</td>\n      <td>Vanguard | Vanguard 1</td>\n      <td>StatusRetired</td>\n      <td>NaN</td>\n      <td>Success</td>\n      <td>NaN</td>\n      <td>NaN</td>\n      <td>NaN</td>\n      <td>...</td>\n      <td>NaN</td>\n      <td>NaN</td>\n      <td>NaN</td>\n      <td>NaN</td>\n      <td>NaN</td>\n      <td>NaN</td>\n      <td>NaN</td>\n      <td>NaN</td>\n      <td>NaN</td>\n      <td>NaN</td>\n    </tr>\n    <tr>\n      <th>4318</th>\n      <td>AMBA</td>\n      <td>LC-26A, Cape Canaveral AFS, Florida, USA</td>\n      <td>1958-03-05 18:27:00+00:00</td>\n      <td>Juno I | Explorer 2</td>\n      <td>StatusRetired</td>\n      <td>NaN</td>\n      <td>Failure</td>\n      <td>NaN</td>\n      <td>NaN</td>\n      <td>NaN</td>\n      <td>...</td>\n      <td>NaN</td>\n      <td>NaN</td>\n      <td>NaN</td>\n      <td>NaN</td>\n      <td>NaN</td>\n      <td>NaN</td>\n      <td>NaN</td>\n      <td>NaN</td>\n      <td>NaN</td>\n      <td>NaN</td>\n    </tr>\n    <tr>\n      <th>4319</th>\n      <td>US Navy</td>\n      <td>LC-18A, Cape Canaveral AFS, Florida, USA</td>\n      <td>1958-02-05 07:33:00+00:00</td>\n      <td>Vanguard | Vanguard TV3BU</td>\n      <td>StatusRetired</td>\n      <td>NaN</td>\n      <td>Failure</td>\n      <td>NaN</td>\n      <td>NaN</td>\n      <td>NaN</td>\n      <td>...</td>\n      <td>NaN</td>\n      <td>NaN</td>\n      <td>NaN</td>\n      <td>NaN</td>\n      <td>NaN</td>\n      <td>NaN</td>\n      <td>NaN</td>\n      <td>NaN</td>\n      <td>NaN</td>\n      <td>NaN</td>\n    </tr>\n    <tr>\n      <th>4320</th>\n      <td>AMBA</td>\n      <td>LC-26A, Cape Canaveral AFS, Florida, USA</td>\n      <td>1958-02-01 03:48:00+00:00</td>\n      <td>Juno I | Explorer 1</td>\n      <td>StatusRetired</td>\n      <td>NaN</td>\n      <td>Success</td>\n      <td>NaN</td>\n      <td>NaN</td>\n      <td>NaN</td>\n      <td>...</td>\n      <td>NaN</td>\n      <td>NaN</td>\n      <td>NaN</td>\n      <td>NaN</td>\n      <td>NaN</td>\n      <td>NaN</td>\n      <td>NaN</td>\n      <td>NaN</td>\n      <td>NaN</td>\n      <td>NaN</td>\n    </tr>\n    <tr>\n      <th>4321</th>\n      <td>US Navy</td>\n      <td>LC-18A, Cape Canaveral AFS, Florida, USA</td>\n      <td>1957-12-06 16:44:00+00:00</td>\n      <td>Vanguard | Vanguard TV3</td>\n      <td>StatusRetired</td>\n      <td>NaN</td>\n      <td>Failure</td>\n      <td>NaN</td>\n      <td>NaN</td>\n      <td>NaN</td>\n      <td>...</td>\n      <td>NaN</td>\n      <td>NaN</td>\n      <td>NaN</td>\n      <td>NaN</td>\n      <td>NaN</td>\n      <td>NaN</td>\n      <td>NaN</td>\n      <td>NaN</td>\n      <td>NaN</td>\n      <td>NaN</td>\n    </tr>\n  </tbody>\n</table>\n<p>1344 rows × 25 columns</p>\n</div>"
     },
     "metadata": {},
     "execution_count": 17
    }
   ],
   "source": [
    "#Create dataframe of only US launches\n",
    "usa_df = space_df.loc[space_df['Location'].str.slice(-3) == 'USA']\n",
    "\n",
    "#Print dataframe\n",
    "usa_df"
   ]
  },
  {
   "source": [
    "# We created a column that filtered the data by year and then split the data into 8 decades worth of launches."
   ],
   "cell_type": "markdown",
   "metadata": {}
  },
  {
   "cell_type": "code",
   "execution_count": null,
   "metadata": {},
   "outputs": [],
   "source": [
    "#Create a filter to search for launches that occured only during 2020\n",
    "filter = pd.DatetimeIndex(usa_df['Datum']).year\n",
    "\n",
    "#Create a year column and fill with the year of the launch for future data manipulation\n",
    "usa_df['Year'] = filter\n",
    "\n",
    "#Create new dataframe where launches occured in 2020\n",
    "launches_20s = usa_df[usa_df['Year'] == 2020]\n",
    "\n",
    "#Print dataframe\n",
    "launches_20s"
   ]
  },
  {
   "cell_type": "code",
   "execution_count": null,
   "metadata": {},
   "outputs": [],
   "source": [
    "#Create a filter to search between 2010 and 2019\n",
    "filter_10s = (usa_df['Year'] >= 2010) & (usa_df['Year'] <= 2019)\n",
    "\n",
    "#Create dataframe using criteria of filter above\n",
    "launches_10s = usa_df.loc[filter_10s]\n",
    "\n",
    "# #Print dataframe\n",
    "launches_10s"
   ]
  },
  {
   "cell_type": "code",
   "execution_count": null,
   "metadata": {},
   "outputs": [],
   "source": [
    "#Create a filter to search between 2000 and 2009\n",
    "filter_00s = (usa_df['Year'] >= 2000) & (usa_df['Year'] <= 2009)\n",
    "\n",
    "#Create a dataframe using filter from above\n",
    "launches_00s = usa_df.loc[filter_00s]\n",
    "\n",
    "#Print dataframe\n",
    "launches_00s"
   ]
  },
  {
   "cell_type": "code",
   "execution_count": null,
   "metadata": {},
   "outputs": [],
   "source": [
    "#Create a filter to search between 2000 and 2009\n",
    "filter_90s = (usa_df['Year'] >= 1990) & (usa_df['Year'] <= 1999)\n",
    "\n",
    "#Create a dataframe using filter from above\n",
    "launches_90s = usa_df.loc[filter_90s]\n",
    "\n",
    "#Print dataframe\n",
    "launches_90s"
   ]
  },
  {
   "cell_type": "code",
   "execution_count": null,
   "metadata": {},
   "outputs": [],
   "source": [
    "#Create a filter to search between 1980 and 1989\n",
    "filter_80s = (usa_df['Year'] >= 1980) & (usa_df['Year'] <= 1989)\n",
    "\n",
    "#Create a dataframe using filter from above\n",
    "launches_80s = usa_df.loc[filter_80s]\n",
    "\n",
    "#Print dataframe\n",
    "launches_80s"
   ]
  },
  {
   "cell_type": "code",
   "execution_count": null,
   "metadata": {},
   "outputs": [],
   "source": [
    "#Create a filter to search between 1970 and 1979\n",
    "filter_70s = (usa_df['Year'] >= 1970) & (usa_df['Year'] <= 1979)\n",
    "\n",
    "#Create a dataframe using filter from above\n",
    "launches_70s = usa_df.loc[filter_70s]\n",
    "\n",
    "#Print dataframe\n",
    "launches_70s"
   ]
  },
  {
   "cell_type": "code",
   "execution_count": null,
   "metadata": {},
   "outputs": [],
   "source": [
    "#Create a filter to search between 1960 and 1969\n",
    "filter_60s = (usa_df['Year'] >= 1960) & (usa_df['Year'] <= 1969)\n",
    "\n",
    "#Create a dataframe using filter from above\n",
    "launches_60s = usa_df.loc[filter_60s]\n",
    "\n",
    "#Print dataframe\n",
    "launches_60s"
   ]
  },
  {
   "cell_type": "code",
   "execution_count": null,
   "metadata": {},
   "outputs": [],
   "source": [
    "#Create a filter to search between 1950 and 1959\n",
    "filter_50s = (usa_df['Year'] >= 1950) & (usa_df['Year'] <= 1959)\n",
    "\n",
    "#Create a dataframe using filter from above\n",
    "launches_50s = usa_df.loc[filter_50s]\n",
    "\n",
    "#Print dataframe\n",
    "launches_50s"
   ]
  },
  {
   "cell_type": "code",
   "execution_count": null,
   "metadata": {},
   "outputs": [],
   "source": []
  },
  {
   "cell_type": "code",
   "execution_count": null,
   "metadata": {},
   "outputs": [],
   "source": []
  }
 ],
 "metadata": {
  "kernelspec": {
   "display_name": "Python 3",
   "language": "python",
   "name": "python3"
  },
  "language_info": {
   "codemirror_mode": {
    "name": "ipython",
    "version": 3
   },
   "file_extension": ".py",
   "mimetype": "text/x-python",
   "name": "python",
   "nbconvert_exporter": "python",
   "pygments_lexer": "ipython3",
   "version": "3.8.3-final"
  }
 },
 "nbformat": 4,
 "nbformat_minor": 4
}
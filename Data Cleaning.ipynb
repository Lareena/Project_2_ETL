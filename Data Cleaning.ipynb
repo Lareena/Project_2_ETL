{
 "cells": [
  {
   "cell_type": "code",
   "execution_count": null,
   "metadata": {},
   "outputs": [],
   "source": [
    "#Dependencies\n",
    "import pandas as pd\n",
    "import numpy as np\n",
    "import datetime as dt"
   ]
  },
  {
   "cell_type": "code",
   "execution_count": null,
   "metadata": {},
   "outputs": [],
   "source": [
    "#Filepath to csv file\n",
    "file = \"Space_Corrected.csv\""
   ]
  },
  {
   "cell_type": "code",
   "execution_count": null,
   "metadata": {},
   "outputs": [],
   "source": [
    "#Create dataframe from csv file\n",
    "space_df = pd.read_csv(file)\n",
    "space_df.head()"
   ]
  },
  {
   "cell_type": "code",
   "execution_count": null,
   "metadata": {},
   "outputs": [],
   "source": [
    "#Drop Unnamed columns\n",
    "space_df.drop(columns=['Unnamed: 0', 'Unnamed: 0.1'])\n",
    "\n",
    "#Convert ['Datum'] column to datetime datatype\n",
    "pd.to_datetime(space_df['Datum'], utc=True)"
   ]
  },
  {
   "cell_type": "code",
   "execution_count": null,
   "metadata": {},
   "outputs": [],
   "source": [
    "#Create dataframe of only US launches\n",
    "usa_df = space_df.loc[space_df['Location'].str.slice(-3) == 'USA']\n",
    "\n",
    "#Print dataframe\n",
    "usa_df"
   ]
  },
  {
   "cell_type": "code",
   "execution_count": null,
   "metadata": {},
   "outputs": [],
   "source": [
    "#Drop unnamed columns\n",
    "usa_df.drop(columns=['Unnamed: 0', 'Unnamed: 0.1'])"
   ]
  },
  {
   "cell_type": "code",
   "execution_count": null,
   "metadata": {},
   "outputs": [],
   "source": [
    "#Create a dataframe for launches during \n",
    "launches_20s = usa_df[usa_df['Datum'].str.contains('2020')]\n",
    "\n",
    "#Print dataframe\n",
    "launches_20s"
   ]
  },
  {
   "cell_type": "code",
   "execution_count": null,
   "metadata": {},
   "outputs": [],
   "source": [
    "#Drop unnamed columns\n",
    "launches_20s.drop(columns=['Unnamed: 0', 'Unnamed: 0.1'])"
   ]
  },
  {
   "cell_type": "code",
   "execution_count": null,
   "metadata": {},
   "outputs": [],
   "source": [
    "# #Create a dataframe for launches during \n",
    "# launches_10s = usa_df[usa_df['Datum'].str.contains('2010')]\n",
    "\n",
    "# #Drop unnamed columns\n",
    "# launches_10s.drop(columns=['Unnamed: 0', 'Unnamed: 0.1'])\n",
    "\n",
    "# #Print dataframe\n",
    "# launches_10s"
   ]
  },
  {
   "cell_type": "code",
   "execution_count": null,
   "metadata": {},
   "outputs": [],
   "source": [
    "usa_df['Datum'].dtype"
   ]
  },
  {
   "cell_type": "code",
   "execution_count": null,
   "metadata": {},
   "outputs": [],
   "source": []
  }
 ],
 "metadata": {
  "kernelspec": {
   "display_name": "Python 3",
   "language": "python",
   "name": "python3"
  },
  "language_info": {
   "codemirror_mode": {
    "name": "ipython",
    "version": 3
   },
   "file_extension": ".py",
   "mimetype": "text/x-python",
   "name": "python",
   "nbconvert_exporter": "python",
   "pygments_lexer": "ipython3",
   "version": "3.8.3-final"
  }
 },
 "nbformat": 4,
 "nbformat_minor": 4
}